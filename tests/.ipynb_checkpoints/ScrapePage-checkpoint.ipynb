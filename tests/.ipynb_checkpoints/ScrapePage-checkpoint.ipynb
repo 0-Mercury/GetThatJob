{
 "cells": [
  {
   "cell_type": "code",
   "execution_count": 2,
   "id": "11e41180-9dbd-4780-9f82-37ab97929a84",
   "metadata": {},
   "outputs": [],
   "source": [
    "from bs4 import BeautifulSoup\n",
    "import requests"
   ]
  },
  {
   "cell_type": "code",
   "execution_count": 4,
   "id": "e4b5ece9-ef15-4169-a8de-c301a4ef5941",
   "metadata": {},
   "outputs": [],
   "source": [
    "url = \"https://h1bgrader.com/job-titles/data-scientist-d0g9n44qko#job-h1b-sponsors\"\n",
    "\n",
    "page = requests.get(url)\n",
    "\n",
    "soup = BeautifulSoup(page.text, 'html')"
   ]
  },
  {
   "cell_type": "code",
   "execution_count": 18,
   "id": "691ade87-8a6c-4e06-8093-a9834af57735",
   "metadata": {},
   "outputs": [
    {
     "name": "stdout",
     "output_type": "stream",
     "text": [
      "<table class=\"table table-sm table-bordered dt-responsive\" id=\"h1bsponsor-by-job\" style=\"width:100%\"><thead class=\"thead-light\"><tr><th class=\"header\" scope=\"col\"> Employer Name (H1B LCA Filings Count)</th></tr></thead></table>\n"
     ]
    }
   ],
   "source": [
    "table = soup.find_all('table')[3]\n",
    "print(table)"
   ]
  },
  {
   "cell_type": "code",
   "execution_count": 26,
   "id": "16e0b0da-5f58-443c-9893-9b3ae76bfc70",
   "metadata": {},
   "outputs": [
    {
     "name": "stdout",
     "output_type": "stream",
     "text": [
      "Employer Name (H1B LCA Filings Count)\n"
     ]
    }
   ],
   "source": [
    "title = table.find_all(\"th\")[-1].text.strip()\n",
    "print(world_titles)"
   ]
  },
  {
   "cell_type": "code",
   "execution_count": 27,
   "id": "d2a372a7-b71c-4aee-a30c-523e406de6fb",
   "metadata": {},
   "outputs": [
    {
     "ename": "ModuleNotFoundError",
     "evalue": "No module named 'pandas'",
     "output_type": "error",
     "traceback": [
      "\u001b[1;31m---------------------------------------------------------------------------\u001b[0m",
      "\u001b[1;31mModuleNotFoundError\u001b[0m                       Traceback (most recent call last)",
      "Cell \u001b[1;32mIn[27], line 1\u001b[0m\n\u001b[1;32m----> 1\u001b[0m \u001b[38;5;28;01mimport\u001b[39;00m \u001b[38;5;21;01mpandas\u001b[39;00m \u001b[38;5;28;01mas\u001b[39;00m \u001b[38;5;21;01mpd\u001b[39;00m\n",
      "\u001b[1;31mModuleNotFoundError\u001b[0m: No module named 'pandas'"
     ]
    }
   ],
   "source": [
    "import pandas as pd"
   ]
  },
  {
   "cell_type": "code",
   "execution_count": null,
   "id": "129e5e27-57e4-476b-9e8e-c52874352430",
   "metadata": {},
   "outputs": [],
   "source": []
  }
 ],
 "metadata": {
  "kernelspec": {
   "display_name": "Python 3 (ipykernel)",
   "language": "python",
   "name": "python3"
  },
  "language_info": {
   "codemirror_mode": {
    "name": "ipython",
    "version": 3
   },
   "file_extension": ".py",
   "mimetype": "text/x-python",
   "name": "python",
   "nbconvert_exporter": "python",
   "pygments_lexer": "ipython3",
   "version": "3.12.1"
  }
 },
 "nbformat": 4,
 "nbformat_minor": 5
}
