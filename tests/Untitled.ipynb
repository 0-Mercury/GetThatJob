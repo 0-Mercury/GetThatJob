{
 "cells": [
  {
   "cell_type": "code",
   "execution_count": 21,
   "id": "ff484c18-ae93-413b-9452-ee02d48bd21f",
   "metadata": {},
   "outputs": [
    {
     "name": "stdout",
     "output_type": "stream",
     "text": [
      "No more next page button found: 'WebDriver' object has no attribute 'find_element_by_xpath'\n"
     ]
    }
   ],
   "source": [
    "from selenium import webdriver\n",
    "import time\n",
    "\n",
    "# Set up the Chrome webdriver (replace with appropriate driver if using a different browser)\n",
    "driver = webdriver.Chrome()\n",
    "\n",
    "# Replace 'your_website_url' with the actual URL of the webpage containing the data\n",
    "url = 'https://h1bgrader.com/job-titles/data-scientist-d0g9n44qko#job-h1b-sponsors'\n",
    "driver.get(url)\n",
    "\n",
    "# Placeholder for scraped data\n",
    "all_data = []\n",
    "\n",
    "button_index = 2  # Starting button index\n",
    "while True:\n",
    "    # Look for the next page button and click it based on the updated button index\n",
    "    try:\n",
    "        next_page_button = driver.find_element_by_xpath(f'//*[@id=\"h1bsponsor-by-job_paginate\"]/ul/li[{button_index}]/a')\n",
    "        next_page_button.click()\n",
    "        time.sleep(3)  # Add a small delay to ensure the next page content loads (adjust if needed)\n",
    "        button_index += 1  # Increment button index for the next page\n",
    "    except Exception as e:\n",
    "        print(f\"No more next page button found: {e}\")\n",
    "        break\n",
    "\n",
    "# Once finished, you can process 'all_data' as needed\n",
    "# For example, converting it to a DataFrame:\n",
    "# df = pd.DataFrame(all_data)\n",
    "# print(df)\n",
    "\n",
    "# Close the webdriver\n",
    "driver.quit()\n"
   ]
  },
  {
   "cell_type": "code",
   "execution_count": 19,
   "id": "7814548e-4516-4770-b1bd-0b1843ecc6d9",
   "metadata": {},
   "outputs": [
    {
     "name": "stdout",
     "output_type": "stream",
     "text": [
      "[<ul class=\"pagination\"><li class=\"paginate_button page-item active\"><a aria-controls=\"h1bsponsor-by-job\" class=\"page-link\" data-dt-idx=\"0\" href=\"#\" tabindex=\"0\">1</a></li><li class=\"paginate_button page-item\"><a aria-controls=\"h1bsponsor-by-job\" class=\"page-link\" data-dt-idx=\"1\" href=\"#\" tabindex=\"0\">2</a></li><li class=\"paginate_button page-item\"><a aria-controls=\"h1bsponsor-by-job\" class=\"page-link\" data-dt-idx=\"2\" href=\"#\" tabindex=\"0\">3</a></li><li class=\"paginate_button page-item\"><a aria-controls=\"h1bsponsor-by-job\" class=\"page-link\" data-dt-idx=\"3\" href=\"#\" tabindex=\"0\">4</a></li><li class=\"paginate_button page-item\"><a aria-controls=\"h1bsponsor-by-job\" class=\"page-link\" data-dt-idx=\"4\" href=\"#\" tabindex=\"0\">5</a></li><li class=\"paginate_button page-item disabled\" id=\"h1bsponsor-by-job_ellipsis\"><a aria-controls=\"h1bsponsor-by-job\" class=\"page-link\" data-dt-idx=\"5\" href=\"#\" tabindex=\"0\">…</a></li><li class=\"paginate_button page-item\"><a aria-controls=\"h1bsponsor-by-job\" class=\"page-link\" data-dt-idx=\"6\" href=\"#\" tabindex=\"0\">12</a></li></ul>, <ul class=\"pagination\"><li class=\"paginate_button page-item active\"><a aria-controls=\"h1bsponsor-by-job\" class=\"page-link\" data-dt-idx=\"0\" href=\"#\" tabindex=\"0\">1</a></li><li class=\"paginate_button page-item\"><a aria-controls=\"h1bsponsor-by-job\" class=\"page-link\" data-dt-idx=\"1\" href=\"#\" tabindex=\"0\">2</a></li><li class=\"paginate_button page-item\"><a aria-controls=\"h1bsponsor-by-job\" class=\"page-link\" data-dt-idx=\"2\" href=\"#\" tabindex=\"0\">3</a></li><li class=\"paginate_button page-item\"><a aria-controls=\"h1bsponsor-by-job\" class=\"page-link\" data-dt-idx=\"3\" href=\"#\" tabindex=\"0\">4</a></li><li class=\"paginate_button page-item\"><a aria-controls=\"h1bsponsor-by-job\" class=\"page-link\" data-dt-idx=\"4\" href=\"#\" tabindex=\"0\">5</a></li><li class=\"paginate_button page-item disabled\"><a aria-controls=\"h1bsponsor-by-job\" class=\"page-link\" data-dt-idx=\"5\" href=\"#\" tabindex=\"0\">…</a></li><li class=\"paginate_button page-item\"><a aria-controls=\"h1bsponsor-by-job\" class=\"page-link\" data-dt-idx=\"6\" href=\"#\" tabindex=\"0\">12</a></li></ul>]\n"
     ]
    }
   ],
   "source": [
    "print(table)"
   ]
  },
  {
   "cell_type": "code",
   "execution_count": null,
   "id": "a79ee569-bde0-4063-88ec-d6d2658874a2",
   "metadata": {},
   "outputs": [],
   "source": []
  }
 ],
 "metadata": {
  "kernelspec": {
   "display_name": "Python 3 (ipykernel)",
   "language": "python",
   "name": "python3"
  },
  "language_info": {
   "codemirror_mode": {
    "name": "ipython",
    "version": 3
   },
   "file_extension": ".py",
   "mimetype": "text/x-python",
   "name": "python",
   "nbconvert_exporter": "python",
   "pygments_lexer": "ipython3",
   "version": "3.12.1"
  }
 },
 "nbformat": 4,
 "nbformat_minor": 5
}
